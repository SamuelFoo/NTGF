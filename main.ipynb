{
 "cells": [
  {
   "cell_type": "code",
   "execution_count": 1,
   "metadata": {},
   "outputs": [],
   "source": [
    "%reload_ext autoreload\n",
    "%autoreload 2\n",
    "\n",
    "import matplotlib.pyplot as plt\n",
    "import numpy as np\n",
    "from matplotlib.axes import Axes\n",
    "\n",
    "from Global_Parameter import GlobalParams\n",
    "from Green_Function import GKTH_Greens\n",
    "from H_eig import GKTH_find_spectrum\n",
    "from k_space_flipping import GKTH_flipflip\n",
    "from Layer import Layer\n",
    "from self_consistency_delta import GKTH_self_consistency_1S_find_root, GKTH_self_consistency_1S_iterate"
   ]
  },
  {
   "cell_type": "markdown",
   "metadata": {},
   "source": [
    "# Band energy spectrums"
   ]
  },
  {
   "cell_type": "code",
   "execution_count": null,
   "metadata": {},
   "outputs": [],
   "source": [
    "# Default parameters and single default layer\n",
    "p = GlobalParams()\n",
    "layers = [Layer()]\n",
    "\n",
    "max_val_kx = np.max(np.abs(p.k1))\n",
    "kx = np.linspace(-max_val_kx, max_val_kx, p.nkpoints * 2)\n",
    "ky = np.linspace(-max_val_kx, max_val_kx, p.nkpoints * 2)\n",
    "kx, ky = np.meshgrid(kx, ky)\n",
    "\n",
    "# energy is 3d array, nkpoints x nkpoints x (4*nlayers)\n",
    "# each k-point has its only eigenvalues list\n",
    "energy = GKTH_find_spectrum(p, layers)\n",
    "\n",
    "bands = []\n",
    "for i in range(4 * len(layers)):\n",
    "    energy_band = energy[:, :, i]\n",
    "    new_band = GKTH_flipflip(energy_band)\n",
    "    bands.append(new_band)"
   ]
  },
  {
   "cell_type": "code",
   "execution_count": null,
   "metadata": {},
   "outputs": [],
   "source": [
    "%matplotlib qt\n",
    "fig = plt.figure()\n",
    "ax = fig.add_subplot(111, projection=\"3d\")\n",
    "\n",
    "for i, band in enumerate(bands):\n",
    "    # Skip bands with NaNs or infinities\n",
    "    if np.isnan(band).any() or np.isinf(band).any():\n",
    "        print(f\"Skipping band {i} due to NaN or infinity values.\")\n",
    "        continue\n",
    "\n",
    "    surf = ax.plot_surface(kx, ky, band, facecolor=f\"C{i%10}\", alpha=0.5)\n",
    "\n",
    "ax.set_xlabel(\"$k_x$\")\n",
    "ax.set_ylabel(\"$k_y$\")\n",
    "ax.set_zlabel(\"Energy (eV)\")\n",
    "ax.set_title(\"Energy Spectrum\")"
   ]
  },
  {
   "cell_type": "code",
   "execution_count": null,
   "metadata": {},
   "outputs": [],
   "source": [
    "%matplotlib inline\n",
    "fig, axes = plt.subplots(2, 2, figsize=(10, 10))\n",
    "\n",
    "for i, band in enumerate(bands):\n",
    "    ax: Axes = axes[i // 2, i % 2]\n",
    "    ax.imshow(band, cmap=\"viridis\")\n",
    "    ax.set_title(f\"Band {i}\")\n",
    "    ax.set_xlabel(\"$k_x$\")\n",
    "    ax.set_ylabel(\"$k_y$\")\n",
    "\n",
    "fig.tight_layout()"
   ]
  },
  {
   "cell_type": "markdown",
   "metadata": {},
   "source": [
    "# Residual-Gap Plot"
   ]
  },
  {
   "cell_type": "markdown",
   "metadata": {},
   "source": [
    "## Check root finding"
   ]
  },
  {
   "cell_type": "code",
   "execution_count": null,
   "metadata": {},
   "outputs": [],
   "source": [
    "h_list = [0.0, 7.5e-4, 8e-4, 1e-3]\n",
    "plot_tuples = []\n",
    "Deltas = []\n",
    "\n",
    "for h in h_list:\n",
    "    p = GlobalParams(h=h)\n",
    "\n",
    "    # Find root where residuals are zero\n",
    "    layers = [Layer()]\n",
    "    Delta, layers = GKTH_self_consistency_1S_find_root(p, layers)\n",
    "    Deltas.append(Delta)\n",
    "\n",
    "    # See how residuals vary with Delta to check find root\n",
    "    layers = [Layer()]\n",
    "    x_vals, residuals = GKTH_self_consistency_1S_iterate(p, layers)\n",
    "    plot_tuples.append((x_vals, residuals))"
   ]
  },
  {
   "cell_type": "code",
   "execution_count": null,
   "metadata": {},
   "outputs": [],
   "source": [
    "plt.figure(figsize=(12, 6))\n",
    "\n",
    "for i, (h, (x_vals, residuals), Delta) in enumerate(zip(h_list, plot_tuples, Deltas)):\n",
    "    plt.plot(x_vals, residuals, label=f\"h = {h}\", color=f\"C{i}\")\n",
    "    plt.scatter([Delta], [0], color=f\"C{i}\", marker=\"x\")\n",
    "\n",
    "plt.axhline(y=0, color=\"gray\", linestyle=\"--\")\n",
    "plt.xlabel(\"Delta_0 (eV)\")\n",
    "plt.ylabel(\"Residual (eV)\")\n",
    "plt.title(\"Residual vs Delta_0\")\n",
    "plt.legend()\n",
    "plt.show()"
   ]
  },
  {
   "cell_type": "markdown",
   "metadata": {},
   "source": [
    "## Gap vs h"
   ]
  },
  {
   "cell_type": "code",
   "execution_count": null,
   "metadata": {},
   "outputs": [],
   "source": [
    "h_list = np.linspace(0, 1e-3, 20)\n",
    "\n",
    "for h in h_list:\n",
    "    p = GlobalParams(h=h)\n",
    "    layers = [Layer()]\n",
    "\n",
    "    Delta, layers = GKTH_self_consistency_1S_find_root(p, layers)\n",
    "    Deltas.append(Delta)"
   ]
  },
  {
   "cell_type": "code",
   "execution_count": null,
   "metadata": {},
   "outputs": [],
   "source": [
    "plt.plot(h_list, Deltas[4:], linestyle=\"--\", marker=\"o\", label=r\"$\\lambda = 0.1$\")\n",
    "plt.xlabel(\"h (eV)\")\n",
    "plt.ylabel(\"Delta (eV)\")\n",
    "plt.legend()"
   ]
  },
  {
   "cell_type": "markdown",
   "metadata": {},
   "source": [
    "# Matsubara Frequencies"
   ]
  },
  {
   "cell_type": "code",
   "execution_count": null,
   "metadata": {},
   "outputs": [],
   "source": [
    "%matplotlib inline\n",
    "matsubara_freqs, ksums, F_kresolved_final = GKTH_Greens(p, layers, verbose = True)"
   ]
  },
  {
   "cell_type": "code",
   "execution_count": null,
   "metadata": {},
   "outputs": [],
   "source": [
    "plt.pcolormesh(np.real(F_kresolved_final[0, ...]))\n",
    "plt.colorbar()\n",
    "plt.title(\"Real part of F_kresolved_final\")\n",
    "plt.show()\n",
    "\n",
    "plt.scatter(matsubara_freqs, np.abs(ksums))\n",
    "plt.xlim(0, 5200)\n",
    "plt.title(\"Matsubara Frequencies vs |ksums|\")\n",
    "plt.xlabel(\"Matsubara Frequencies\")\n",
    "plt.ylabel(\"|ksums|\")\n",
    "plt.show()"
   ]
  },
  {
   "cell_type": "markdown",
   "metadata": {},
   "source": [
    "# Dump"
   ]
  },
  {
   "cell_type": "code",
   "execution_count": 11,
   "metadata": {},
   "outputs": [],
   "source": [
    "# fig = plt.figure()\n",
    "# ts_list = []\n",
    "# for i in range(10):\n",
    "#     ts = 0.9 + i/50\n",
    "#     p.ts = np.zeros(100) + ts\n",
    "#     delta_list = []\n",
    "#     tNN_list = []\n",
    "#     for j in range(10):\n",
    "#         print(\"current iteration:\", i, j)\n",
    "#         ts_list.append(ts)\n",
    "#         tNN = -1 - j/20\n",
    "#         Nb.tNN = tNN\n",
    "#         Nb.tNNN = Nb.tNN * 0.1\n",
    "#         tNN_list.append(tNN)\n",
    "#         delta,_, _ = GKTH_self_consistency_1S(p,layers)\n",
    "#         delta_list.append(delta)\n",
    "#     plt.plot(tNN_list, delta_list, label = f\"{ts:.2f}\")\n",
    "    \n",
    "# plt.xlabel(\"tNN (eV)\")\n",
    "# plt.ylabel(\"delta_best_fit (eV)\")\n",
    "# plt.legend()"
   ]
  }
 ],
 "metadata": {
  "kernelspec": {
   "display_name": "py313",
   "language": "python",
   "name": "python3"
  },
  "language_info": {
   "codemirror_mode": {
    "name": "ipython",
    "version": 3
   },
   "file_extension": ".py",
   "mimetype": "text/x-python",
   "name": "python",
   "nbconvert_exporter": "python",
   "pygments_lexer": "ipython3",
   "version": "3.13.0"
  }
 },
 "nbformat": 4,
 "nbformat_minor": 2
}
