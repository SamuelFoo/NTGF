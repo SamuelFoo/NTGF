{
 "cells": [
  {
   "cell_type": "code",
   "execution_count": null,
   "metadata": {},
   "outputs": [],
   "source": [
    "%reload_ext autoreload\n",
    "%autoreload 2\n",
    "\n",
    "import matplotlib.pyplot as plt\n",
    "import numpy as np\n",
    "\n",
    "from Global_Parameter import GlobalParams\n",
    "from Green_Function import GKTH_Greens\n",
    "from H_eig import GKTH_find_spectrum\n",
    "from k_space_flipping import GKTH_flipflip\n",
    "from Layer import Layer\n",
    "from self_consistency_delta import GKTH_self_consistency_1S"
   ]
  },
  {
   "cell_type": "code",
   "execution_count": null,
   "metadata": {},
   "outputs": [],
   "source": [
    "p = GlobalParams()\n",
    "Nb = Layer()\n",
    "layers = [Nb]\n",
    "\n",
    "ts_list = []"
   ]
  },
  {
   "cell_type": "markdown",
   "metadata": {},
   "source": [
    "# Band energy spectrums"
   ]
  },
  {
   "cell_type": "code",
   "execution_count": null,
   "metadata": {},
   "outputs": [],
   "source": [
    "max_val_kx = np.max(np.abs(p.k1))\n",
    "kx = np.linspace(-max_val_kx, max_val_kx, p.nkpoints * 2)\n",
    "ky = np.linspace(-max_val_kx, max_val_kx, p.nkpoints * 2)\n",
    "kx, ky = np.meshgrid(kx, ky)\n",
    "\n",
    "# energy is 3d array, nkpoints x nkpoints x (4*nlayers)\n",
    "# each k-point has its only eigenvalues list\n",
    "energy = GKTH_find_spectrum(p, layers)\n",
    "\n",
    "bands = []\n",
    "for i in range(4 * len(layers)):\n",
    "    energy_band = energy[:, :, i]\n",
    "    new_band = GKTH_flipflip(energy_band)\n",
    "    bands.append(new_band)"
   ]
  },
  {
   "cell_type": "code",
   "execution_count": null,
   "metadata": {},
   "outputs": [],
   "source": [
    "%matplotlib qt\n",
    "fig = plt.figure()\n",
    "ax = fig.add_subplot(111, projection=\"3d\")\n",
    "\n",
    "for i, new_band in enumerate(bands):\n",
    "    # Skip bands with NaNs or infinities\n",
    "    if np.isnan(new_band).any() or np.isinf(new_band).any():\n",
    "        print(f\"Skipping band {i} due to NaN or infinity values.\")\n",
    "        continue\n",
    "\n",
    "    surf = ax.plot_surface(kx, ky, new_band, facecolor=f\"C{i%10}\", alpha=0.5)\n",
    "\n",
    "ax.set_xlabel(\"$k_x$\")\n",
    "ax.set_ylabel(\"$k_y$\")\n",
    "ax.set_zlabel(\"Energy (eV)\")\n",
    "ax.set_title(\"Energy Spectrum\")"
   ]
  },
  {
   "cell_type": "code",
   "execution_count": null,
   "metadata": {},
   "outputs": [],
   "source": [
    "%matplotlib inline\n",
    "plt.contourf(kx, ky, new_band, 100)\n",
    "plt.gca().set_aspect(\"equal\")\n",
    "ax.set_xlabel(\"$k_x$\")\n",
    "ax.set_ylabel(\"$k_y$\")\n",
    "plt.colorbar()"
   ]
  },
  {
   "cell_type": "markdown",
   "metadata": {},
   "source": [
    "# Delta"
   ]
  },
  {
   "cell_type": "code",
   "execution_count": null,
   "metadata": {},
   "outputs": [],
   "source": [
    "Delta, layers, residual_history = GKTH_self_consistency_1S(p, layers)"
   ]
  },
  {
   "cell_type": "code",
   "execution_count": null,
   "metadata": {},
   "outputs": [],
   "source": [
    "%matplotlib inline\n",
    "matsubara_freqs, ksums, F_kresolved_final = GKTH_Greens(p, layers, verbose = True)"
   ]
  },
  {
   "cell_type": "code",
   "execution_count": null,
   "metadata": {},
   "outputs": [],
   "source": [
    "plt.pcolormesh(np.real(F_kresolved_final[0, ...]))\n",
    "plt.colorbar()\n",
    "plt.title(\"Real part of F_kresolved_final\")\n",
    "plt.show()\n",
    "\n",
    "plt.scatter(matsubara_freqs, np.abs(ksums))\n",
    "plt.xlim(0, 5200)\n",
    "plt.title(\"Matsubara Frequencies vs |ksums|\")\n",
    "plt.xlabel(\"Matsubara Frequencies\")\n",
    "plt.ylabel(\"|ksums|\")\n",
    "plt.show()"
   ]
  },
  {
   "cell_type": "markdown",
   "metadata": {},
   "source": [
    "# Dump"
   ]
  },
  {
   "cell_type": "code",
   "execution_count": null,
   "metadata": {},
   "outputs": [],
   "source": [
    "# fig = plt.figure()\n",
    "# for i in range(10):\n",
    "#     ts = 0.9 + i/50\n",
    "#     p.ts = np.zeros(100) + ts\n",
    "#     delta_list = []\n",
    "#     tNN_list = []\n",
    "#     for j in range(10):\n",
    "#         print(\"current iteration:\", i, j)\n",
    "#         ts_list.append(ts)\n",
    "#         tNN = -1 - j/20\n",
    "#         Nb.tNN = tNN\n",
    "#         Nb.tNNN = Nb.tNN * 0.1\n",
    "#         tNN_list.append(tNN)\n",
    "#         delta,_, _ = GKTH_self_consistency_1S(p,layers)\n",
    "#         delta_list.append(delta)\n",
    "#     plt.plot(tNN_list, delta_list, label = f\"{ts:.2f}\")\n",
    "    \n",
    "# plt.xlabel(\"tNN (eV)\")\n",
    "# plt.ylabel(\"delta_best_fit (eV)\")\n",
    "# plt.legend()"
   ]
  }
 ],
 "metadata": {
  "kernelspec": {
   "display_name": "py313",
   "language": "python",
   "name": "python3"
  },
  "language_info": {
   "codemirror_mode": {
    "name": "ipython",
    "version": 3
   },
   "file_extension": ".py",
   "mimetype": "text/x-python",
   "name": "python",
   "nbconvert_exporter": "python",
   "pygments_lexer": "ipython3",
   "version": "3.13.0"
  }
 },
 "nbformat": 4,
 "nbformat_minor": 2
}
